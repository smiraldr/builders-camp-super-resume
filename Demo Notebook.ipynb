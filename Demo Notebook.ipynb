{
 "cells": [
  {
   "cell_type": "code",
   "execution_count": null,
   "id": "34a28d97-4303-41a3-b3c1-f067da5118cb",
   "metadata": {},
   "outputs": [],
   "source": [
    "#!pip install scikit-learn-intelex\n",
    "#!pip install intel-extension-for-transformers\n",
    "#!pip install -U sentence-transformers\n",
    "#!pip install keybert"
   ]
  },
  {
   "cell_type": "code",
   "execution_count": null,
   "id": "36f19701-7d77-48c0-b70c-9bc9c5fe70d4",
   "metadata": {},
   "outputs": [],
   "source": [
    "## We are using intel_extension_for_pytorch Model Optimization and sklearnx for faster Sklearn Processing"
   ]
  },
  {
   "cell_type": "code",
   "execution_count": 5,
   "id": "590b541b-c2fd-426d-aff8-6efdad741316",
   "metadata": {},
   "outputs": [
    {
     "name": "stdout",
     "output_type": "stream",
     "text": [
      "Defaulting to user installation because normal site-packages is not writeable\n",
      "Requirement already satisfied: intel_extension_for_pytorch in ./.local/lib/python3.9/site-packages (1.13.100)\n",
      "Requirement already satisfied: psutil in /glob/development-tools/versions/oneapi/2023.0.1/oneapi/intelpython/python3.9/lib/python3.9/site-packages (from intel_extension_for_pytorch) (5.9.4)\n",
      "Requirement already satisfied: numpy in /glob/development-tools/versions/oneapi/2023.0.1/oneapi/intelpython/python3.9/lib/python3.9/site-packages (from intel_extension_for_pytorch) (1.22.3)\n"
     ]
    }
   ],
   "source": [
    "!pip install intel_extension_for_pytorch"
   ]
  },
  {
   "cell_type": "code",
   "execution_count": 1,
   "id": "1c3a4a6a-e61a-4f58-b26d-eba230af5597",
   "metadata": {},
   "outputs": [],
   "source": [
    "import warnings\n",
    "warnings.filterwarnings(\"ignore\")"
   ]
  },
  {
   "cell_type": "code",
   "execution_count": 2,
   "id": "15105353-37e3-4141-b2e2-efb36f98919a",
   "metadata": {},
   "outputs": [],
   "source": [
    "import torch\n",
    "from sentence_transformers import SentenceTransformer\n",
    "\n",
    "model = SentenceTransformer('sentence-transformers/LaBSE')"
   ]
  },
  {
   "cell_type": "code",
   "execution_count": null,
   "id": "e322b523-e52d-408d-9067-bf0ae119958a",
   "metadata": {},
   "outputs": [],
   "source": [
    "import intel_extension_for_pytorch as ipex\n",
    "model = ipex.optimize(model, dtype=torch.bfloat16)"
   ]
  },
  {
   "cell_type": "code",
   "execution_count": 7,
   "id": "e3034f9f-174a-4561-896b-1b1ce5701968",
   "metadata": {},
   "outputs": [],
   "source": [
    "from keybert import KeyBERT\n",
    "kw_model = KeyBERT(model=model)"
   ]
  },
  {
   "cell_type": "code",
   "execution_count": 8,
   "id": "dc2b40f6-a116-4efa-b6fb-02eb21a477e8",
   "metadata": {},
   "outputs": [],
   "source": [
    "from datasets import load_from_disk\n",
    "\n",
    "all_data = load_from_disk('clean_resume_data')"
   ]
  },
  {
   "cell_type": "code",
   "execution_count": null,
   "id": "a6abe148-39b6-4dbb-a33c-7e0f467a0f3d",
   "metadata": {},
   "outputs": [],
   "source": []
  },
  {
   "cell_type": "code",
   "execution_count": 9,
   "id": "481daad8-d6f9-4d8e-9d1c-ea92cf109e36",
   "metadata": {},
   "outputs": [
    {
     "name": "stderr",
     "output_type": "stream",
     "text": [
      "Intel(R) Extension for Scikit-learn* enabled (https://github.com/intel/scikit-learn-intelex)\n"
     ]
    }
   ],
   "source": [
    "from sklearnex import patch_sklearn\n",
    "patch_sklearn()"
   ]
  },
  {
   "cell_type": "code",
   "execution_count": 10,
   "id": "6f779e28-db8b-430b-99b0-8a59cd42cf58",
   "metadata": {},
   "outputs": [],
   "source": [
    "from sklearn.metrics.pairwise import cosine_similarity"
   ]
  },
  {
   "cell_type": "code",
   "execution_count": 11,
   "id": "0508b697-42c8-4571-a869-00b5d9821b72",
   "metadata": {},
   "outputs": [],
   "source": [
    "import re\n",
    "import pandas as pd\n",
    "import emoji\n",
    "def get_re_compiler_list_words(words_list):\n",
    "    compiled_str = r''\n",
    "    for i, word in enumerate(words_list):\n",
    "        if i == len(words_list) - 1:\n",
    "            compiled_str = compiled_str + r'\\b' + word + r'\\b'\n",
    "        else:\n",
    "            compiled_str = compiled_str + r'\\b' + word + r'\\b | '\n",
    "    r = re.compile(compiled_str, flags=re.I | re.X)\n",
    "\n",
    "    return r\n",
    "\n",
    "\n",
    "def get_compiler_removed_stopwords():\n",
    "    stopword_list = ['follow', 'channel', 'news', 'source', 'breaking', 'tv', 'watch', 'video', 'support', 'subscribe',\n",
    "                     'share', 'link', 'comment', 'download', 'free', 'post', 'click', 'online', 'tube', 'call', 'plz',\n",
    "                     'donate', 'help', 'shared', 'pls', 'sms', 'likes', 'copy', 'following', 'retweet', 'website',\n",
    "                     'comments', 'notification', 'updates', 'play', 'pay', 'msg', 'quotes', 'block', 'posts', 'rekoooo',\n",
    "                     'sent', 'from', 'here', 'android']\n",
    "    r = get_re_compiler_list_words(stopword_list)\n",
    "\n",
    "    return r\n",
    "\n",
    "stop_words_regex = get_compiler_removed_stopwords()\n",
    "url_pattern = re.compile(r'(https?://[^\\s]+)')\n",
    "text_compile1 = re.compile(\"&#39;\")\n",
    "text_compile2 = re.compile('[-_[\\]{}~\\':;\"’‘()–\\n\\r<>@&*+!?•°.,\\\\\\/%=^$|#“”]+')\n",
    "ptrn = re.compile('[^a-z ]')\n",
    "\n",
    "\n",
    "def get_emoji_regexp():\n",
    "    # Sort emoji by length to make sure multi-character emojis are\n",
    "    # matched first\n",
    "    emojis = sorted(emoji.EMOJI_DATA, key=len, reverse=True)\n",
    "    pattern = u'(' + u'|'.join(re.escape(u) for u in emojis) + u')'\n",
    "    return re.compile(pattern)\n",
    "\n",
    "def remove_emoji(text):\n",
    "    outp = get_emoji_regexp().sub(u'', str(text))\n",
    "    return outp\n",
    "\n",
    "def remove_mentions_and_hashtag(text):\n",
    "    \n",
    "    outp = \" \".join(filter(lambda x: x[0] not in ['#', '@'], text.split()))\n",
    "    return outp\n",
    "\n",
    "def remove_unnecessary_text(example):\n",
    "    text = example['Resume_str']\n",
    "    outp = url_pattern.sub('', text)\n",
    "    outp = stop_words_regex.sub('', outp)\n",
    "    outp = remove_mentions_and_hashtag(remove_emoji(outp))\n",
    "    outp = text_compile1.sub('', outp)\n",
    "    outp = text_compile2.sub('', outp)\n",
    "    \n",
    "    example['Resume_str'] = outp\n",
    "\n",
    "    return example"
   ]
  },
  {
   "cell_type": "code",
   "execution_count": 12,
   "id": "d4cbfbd5-8dea-418c-8504-4f8165b45aec",
   "metadata": {},
   "outputs": [],
   "source": [
    "def remove_unnecessary_text2(example):\n",
    "    text = example\n",
    "    outp = url_pattern.sub('', text)\n",
    "    outp = stop_words_regex.sub('', outp)\n",
    "    outp = remove_mentions_and_hashtag(remove_emoji(outp))\n",
    "    outp = text_compile1.sub('', outp)\n",
    "    outp = text_compile2.sub('', outp)\n",
    "\n",
    "    return outp"
   ]
  },
  {
   "cell_type": "code",
   "execution_count": 13,
   "id": "06ab3a2f-7a67-4cf1-8bc5-72aebecfb979",
   "metadata": {},
   "outputs": [],
   "source": [
    "def sent_check(example):\n",
    "    \n",
    "    example['embed'] = model.encode(example['Resume_str'])\n",
    "    \n",
    "    return example"
   ]
  },
  {
   "cell_type": "code",
   "execution_count": 14,
   "id": "eb10f853-291f-4ea3-b93d-9d89edfc4170",
   "metadata": {},
   "outputs": [],
   "source": [
    "def keyword_extraction(example):\n",
    "    \n",
    "    example['keywords'] = [i[0] for i in kw_model.extract_keywords(example['Resume_str'], keyphrase_ngram_range=(1, 1), stop_words='english',\n",
    "                              use_maxsum=True, nr_candidates=20, top_n=10)]\n",
    "    \n",
    "    return example"
   ]
  },
  {
   "cell_type": "code",
   "execution_count": 15,
   "id": "8b9152fa-5bf9-40d3-bff6-a5fdec1aa197",
   "metadata": {},
   "outputs": [],
   "source": [
    "def label_change(example):\n",
    "    \n",
    "    example['Category'] = example['Category'].lower()\n",
    "    \n",
    "    return example"
   ]
  },
  {
   "cell_type": "code",
   "execution_count": null,
   "id": "5c6ccfda-c81b-43f0-b6d1-7c62f354ad15",
   "metadata": {},
   "outputs": [],
   "source": [
    "all_data = all_data.map(remove_unnecessary_text)\n",
    "all_data = all_data.map(sent_check, batched=True)"
   ]
  },
  {
   "cell_type": "code",
   "execution_count": null,
   "id": "63aa3811-89ca-4fea-8384-3ed55834798f",
   "metadata": {},
   "outputs": [
    {
     "data": {
      "application/json": {
       "ascii": false,
       "bar_format": null,
       "colour": null,
       "elapsed": 0.008089303970336914,
       "initial": 0,
       "n": 0,
       "ncols": null,
       "nrows": null,
       "postfix": null,
       "prefix": "",
       "rate": null,
       "total": 3446,
       "unit": "ex",
       "unit_divisor": 1000,
       "unit_scale": false
      },
      "application/vnd.jupyter.widget-view+json": {
       "model_id": "de89600bbddc4f9f9b34da6bcfe37786",
       "version_major": 2,
       "version_minor": 0
      },
      "text/plain": [
       "  0%|          | 0/3446 [00:00<?, ?ex/s]"
      ]
     },
     "metadata": {},
     "output_type": "display_data"
    }
   ],
   "source": [
    "all_data = all_data.map(keyword_extraction)"
   ]
  },
  {
   "cell_type": "code",
   "execution_count": null,
   "id": "15b6c8c9-f859-4118-bb15-989fe50b397d",
   "metadata": {},
   "outputs": [],
   "source": [
    "all_data = all_data.map(label_change)"
   ]
  },
  {
   "cell_type": "code",
   "execution_count": null,
   "id": "8f0a2aeb-f089-4bc0-9e72-16a99d55b93d",
   "metadata": {},
   "outputs": [],
   "source": []
  },
  {
   "cell_type": "code",
   "execution_count": 86,
   "id": "804b9d97-bb62-4d39-b5e9-f23260a44e56",
   "metadata": {},
   "outputs": [],
   "source": [
    "def sim_match(example, embed):\n",
    "    \n",
    "    example['cos_sim'] = cosine_similarity([embed, example['embed']])[0][1]\n",
    "    \n",
    "    tmp = example['Resume_str'].lower().split(' ')\n",
    "    example['key_match'] = len([i for i in jd_key if i in tmp])\n",
    "    \n",
    "    return example"
   ]
  },
  {
   "cell_type": "code",
   "execution_count": 96,
   "id": "ddc017c5-fb62-45ec-9434-97fad77552d2",
   "metadata": {},
   "outputs": [],
   "source": [
    "def similar_profiles(jd, all_data):\n",
    "    \n",
    "    try:\n",
    "        all_data = all_data.remove_columns(['cos_sim', 'key_match'])\n",
    "    except:\n",
    "        pass\n",
    "    \n",
    "    jd_clean = remove_unnecessary_text2(jd)\n",
    "    jd_embed = model.encode(jd_clean)\n",
    "    jd_key = [i[0] for i in kw_model.extract_keywords(jd_clean, keyphrase_ngram_range=(1, 1), stop_words='english',\n",
    "                              use_maxsum=True, nr_candidates=20, top_n=10)]\n",
    "    \n",
    "    all_data = all_data.map(sim_match, fn_kwargs={\"embed\":jd_embed})\n",
    "    res_df = all_data.filter(lambda x: x['cos_sim'] > 0.72 and x['key_match'] > 5).to_pandas()\n",
    "    \n",
    "    return res_df    "
   ]
  },
  {
   "cell_type": "code",
   "execution_count": 97,
   "id": "17d38fd0-57bb-449c-a6ea-ccfd0d16ef7c",
   "metadata": {},
   "outputs": [],
   "source": [
    "jd_hr = \"\"\"The HR Specialist will be responsible for a variety of HR functions including but not limited to recruiting, onboarding, benefits administration, employee relations, and compliance. The successful candidate will work closely with management to ensure compliance with all applicable employment laws and regulations, and will help create a positive work environment that fosters employee engagement and retention.\n",
    "\n",
    "Key Responsibilities:\n",
    "\n",
    "Manage the recruitment process from job postings to offer letters, including candidate screening, interviewing, and reference checks\n",
    "Assist in the onboarding process for new hires, including conducting orientation sessions and ensuring all necessary paperwork is completed\n",
    "Administer employee benefit programs, including health insurance, retirement plans, and other benefits\n",
    "Serve as a point of contact for employee questions and concerns related to HR policies and procedures\n",
    "Work closely with management to identify and address employee relations issues in a timely and effective manner\n",
    "Ensure compliance with all federal, state, and local employment laws and regulations\n",
    "Maintain employee records and ensure accuracy of HR systems and data\n",
    "\"\"\""
   ]
  },
  {
   "cell_type": "code",
   "execution_count": 100,
   "id": "5be27044-f8fd-4f3d-8987-ced34e779a2b",
   "metadata": {},
   "outputs": [
    {
     "data": {
      "application/json": {
       "ascii": false,
       "bar_format": null,
       "colour": null,
       "elapsed": 0.00707244873046875,
       "initial": 0,
       "n": 0,
       "ncols": null,
       "nrows": null,
       "postfix": null,
       "prefix": "Batches",
       "rate": null,
       "total": 1,
       "unit": "it",
       "unit_divisor": 1000,
       "unit_scale": false
      },
      "application/vnd.jupyter.widget-view+json": {
       "model_id": "42baa4afec4b45019c691d08816ea0c3",
       "version_major": 2,
       "version_minor": 0
      },
      "text/plain": [
       "Batches:   0%|          | 0/1 [00:00<?, ?it/s]"
      ]
     },
     "metadata": {},
     "output_type": "display_data"
    },
    {
     "name": "stderr",
     "output_type": "stream",
     "text": [
      "2023-02-16 04:35:11,167 - datasets.arrow_dataset - WARNING - Loading cached processed dataset at /home/u185998/clean_resume_data/cache-865bd72de8c1d155.arrow\n",
      "2023-02-16 04:35:11,170 - datasets.arrow_dataset - WARNING - Loading cached processed dataset at /home/u185998/clean_resume_data/cache-eae7a196d0d1e7ba.arrow\n"
     ]
    },
    {
     "data": {
      "text/html": [
       "<div>\n",
       "<style scoped>\n",
       "    .dataframe tbody tr th:only-of-type {\n",
       "        vertical-align: middle;\n",
       "    }\n",
       "\n",
       "    .dataframe tbody tr th {\n",
       "        vertical-align: top;\n",
       "    }\n",
       "\n",
       "    .dataframe thead th {\n",
       "        text-align: right;\n",
       "    }\n",
       "</style>\n",
       "<table border=\"1\" class=\"dataframe\">\n",
       "  <thead>\n",
       "    <tr style=\"text-align: right;\">\n",
       "      <th></th>\n",
       "      <th>Resume_str</th>\n",
       "      <th>Category</th>\n",
       "      <th>embed</th>\n",
       "      <th>cos_sim</th>\n",
       "      <th>key_match</th>\n",
       "    </tr>\n",
       "  </thead>\n",
       "  <tbody>\n",
       "    <tr>\n",
       "      <th>11</th>\n",
       "      <td>HR COORDINATOR Summary Certified Human Resourc...</td>\n",
       "      <td>HR</td>\n",
       "      <td>[-0.02826775, -0.039918706, -0.013609606, -0.0...</td>\n",
       "      <td>0.854225</td>\n",
       "      <td>7</td>\n",
       "    </tr>\n",
       "    <tr>\n",
       "      <th>17</th>\n",
       "      <td>HR MANAGER Summary Human Resources Professiona...</td>\n",
       "      <td>HR</td>\n",
       "      <td>[-0.04598558, -0.040164113, -0.009126835, -0.0...</td>\n",
       "      <td>0.850612</td>\n",
       "      <td>7</td>\n",
       "    </tr>\n",
       "    <tr>\n",
       "      <th>14</th>\n",
       "      <td>HR ASSISTANT Highlights Interviewing expertise...</td>\n",
       "      <td>HR</td>\n",
       "      <td>[-0.043813698, -0.02912577, -0.017574316, -0.0...</td>\n",
       "      <td>0.850336</td>\n",
       "      <td>7</td>\n",
       "    </tr>\n",
       "    <tr>\n",
       "      <th>12</th>\n",
       "      <td>HR GENERALIST Summary Energetic Bilingual Huma...</td>\n",
       "      <td>HR</td>\n",
       "      <td>[-0.05544784, -0.026709273, -0.012451196, -0.0...</td>\n",
       "      <td>0.846114</td>\n",
       "      <td>8</td>\n",
       "    </tr>\n",
       "    <tr>\n",
       "      <th>62</th>\n",
       "      <td>CONSULTANT Summary Human Resource Professional...</td>\n",
       "      <td>CONSULTANT</td>\n",
       "      <td>[-0.057123452, -0.036554333, -0.023314979, 0.0...</td>\n",
       "      <td>0.819709</td>\n",
       "      <td>6</td>\n",
       "    </tr>\n",
       "    <tr>\n",
       "      <th>...</th>\n",
       "      <td>...</td>\n",
       "      <td>...</td>\n",
       "      <td>...</td>\n",
       "      <td>...</td>\n",
       "      <td>...</td>\n",
       "    </tr>\n",
       "    <tr>\n",
       "      <th>61</th>\n",
       "      <td>BUSINESS ACCOUNT LEAD Executive Profile Strong...</td>\n",
       "      <td>BPO</td>\n",
       "      <td>[-0.03645325, -0.014745852, 0.028635135, -0.00...</td>\n",
       "      <td>0.727530</td>\n",
       "      <td>6</td>\n",
       "    </tr>\n",
       "    <tr>\n",
       "      <th>37</th>\n",
       "      <td>HR  SAFETY MANAGER Summary Human Resources Man...</td>\n",
       "      <td>HR</td>\n",
       "      <td>[-0.03956906, -0.021043437, -0.027549429, 0.01...</td>\n",
       "      <td>0.726188</td>\n",
       "      <td>6</td>\n",
       "    </tr>\n",
       "    <tr>\n",
       "      <th>69</th>\n",
       "      <td>BRANCH MANAGER Summary As an experienced banki...</td>\n",
       "      <td>BANKING</td>\n",
       "      <td>[-0.034344185, -0.025618272, -0.035721105, -0....</td>\n",
       "      <td>0.723338</td>\n",
       "      <td>7</td>\n",
       "    </tr>\n",
       "    <tr>\n",
       "      <th>59</th>\n",
       "      <td>CLINICAL STUDY COORDINATOR II Professional Bac...</td>\n",
       "      <td>FITNESS</td>\n",
       "      <td>[-0.020330684, -0.048541896, 0.030323666, -0.0...</td>\n",
       "      <td>0.722900</td>\n",
       "      <td>6</td>\n",
       "    </tr>\n",
       "    <tr>\n",
       "      <th>65</th>\n",
       "      <td>DEPUTY PRINCIPAL Executive Profile Resultsorie...</td>\n",
       "      <td>AUTOMOBILE</td>\n",
       "      <td>[-0.032646265, -0.04653155, -0.019676032, -0.0...</td>\n",
       "      <td>0.721586</td>\n",
       "      <td>6</td>\n",
       "    </tr>\n",
       "  </tbody>\n",
       "</table>\n",
       "<p>74 rows × 5 columns</p>\n",
       "</div>"
      ],
      "text/plain": [
       "                                           Resume_str    Category  \\\n",
       "11  HR COORDINATOR Summary Certified Human Resourc...          HR   \n",
       "17  HR MANAGER Summary Human Resources Professiona...          HR   \n",
       "14  HR ASSISTANT Highlights Interviewing expertise...          HR   \n",
       "12  HR GENERALIST Summary Energetic Bilingual Huma...          HR   \n",
       "62  CONSULTANT Summary Human Resource Professional...  CONSULTANT   \n",
       "..                                                ...         ...   \n",
       "61  BUSINESS ACCOUNT LEAD Executive Profile Strong...         BPO   \n",
       "37  HR  SAFETY MANAGER Summary Human Resources Man...          HR   \n",
       "69  BRANCH MANAGER Summary As an experienced banki...     BANKING   \n",
       "59  CLINICAL STUDY COORDINATOR II Professional Bac...     FITNESS   \n",
       "65  DEPUTY PRINCIPAL Executive Profile Resultsorie...  AUTOMOBILE   \n",
       "\n",
       "                                                embed   cos_sim  key_match  \n",
       "11  [-0.02826775, -0.039918706, -0.013609606, -0.0...  0.854225          7  \n",
       "17  [-0.04598558, -0.040164113, -0.009126835, -0.0...  0.850612          7  \n",
       "14  [-0.043813698, -0.02912577, -0.017574316, -0.0...  0.850336          7  \n",
       "12  [-0.05544784, -0.026709273, -0.012451196, -0.0...  0.846114          8  \n",
       "62  [-0.057123452, -0.036554333, -0.023314979, 0.0...  0.819709          6  \n",
       "..                                                ...       ...        ...  \n",
       "61  [-0.03645325, -0.014745852, 0.028635135, -0.00...  0.727530          6  \n",
       "37  [-0.03956906, -0.021043437, -0.027549429, 0.01...  0.726188          6  \n",
       "69  [-0.034344185, -0.025618272, -0.035721105, -0....  0.723338          7  \n",
       "59  [-0.020330684, -0.048541896, 0.030323666, -0.0...  0.722900          6  \n",
       "65  [-0.032646265, -0.04653155, -0.019676032, -0.0...  0.721586          6  \n",
       "\n",
       "[74 rows x 5 columns]"
      ]
     },
     "execution_count": 100,
     "metadata": {},
     "output_type": "execute_result"
    }
   ],
   "source": [
    "results = similar_profiles(jd_hr, all_data)\n",
    "\n",
    "results = results.sort_values(by='cos_sim', ascending=False)\n",
    "results"
   ]
  },
  {
   "cell_type": "code",
   "execution_count": 91,
   "id": "cacb7898-5d7c-491d-a39d-9f789fd628a1",
   "metadata": {},
   "outputs": [],
   "source": [
    "jd_info = \"\"\"\"Responsibilities:\n",
    "\n",
    "Collaborate with cross-functional teams to design, develop, and deploy high-quality software solutions\n",
    "Provide technical leadership and guidance to junior developers\n",
    "Participate in code reviews and ensure adherence to best practices and coding standards\n",
    "Work closely with product managers to define and prioritize product requirements and develop user stories\n",
    "Build and maintain scalable and reliable software systems and architecture\n",
    "Troubleshoot and debug production issues and implement corrective actions\n",
    "Continuously improve and optimize software performance and scalability\n",
    "Research and evaluate new technologies and tools to improve development efficiency and productivity\n",
    "Contribute to the development and implementation of software engineering best practices and processes\n",
    "\"\"\""
   ]
  },
  {
   "cell_type": "code",
   "execution_count": 99,
   "id": "47199c6e-ec68-44ca-9e41-50b213867e4d",
   "metadata": {},
   "outputs": [
    {
     "data": {
      "application/json": {
       "ascii": false,
       "bar_format": null,
       "colour": null,
       "elapsed": 0.007622957229614258,
       "initial": 0,
       "n": 0,
       "ncols": null,
       "nrows": null,
       "postfix": null,
       "prefix": "Batches",
       "rate": null,
       "total": 1,
       "unit": "it",
       "unit_divisor": 1000,
       "unit_scale": false
      },
      "application/vnd.jupyter.widget-view+json": {
       "model_id": "df660fbff44d43bab465bf26e96a8ed9",
       "version_major": 2,
       "version_minor": 0
      },
      "text/plain": [
       "Batches:   0%|          | 0/1 [00:00<?, ?it/s]"
      ]
     },
     "metadata": {},
     "output_type": "display_data"
    },
    {
     "name": "stderr",
     "output_type": "stream",
     "text": [
      "2023-02-16 04:34:36,653 - datasets.arrow_dataset - WARNING - Loading cached processed dataset at /home/u185998/clean_resume_data/cache-357bbdbbaa86935c.arrow\n"
     ]
    },
    {
     "data": {
      "application/json": {
       "ascii": false,
       "bar_format": null,
       "colour": null,
       "elapsed": 0.0053386688232421875,
       "initial": 0,
       "n": 0,
       "ncols": null,
       "nrows": null,
       "postfix": null,
       "prefix": "",
       "rate": null,
       "total": 4,
       "unit": "ba",
       "unit_divisor": 1000,
       "unit_scale": false
      },
      "application/vnd.jupyter.widget-view+json": {
       "model_id": "7ba6410bbe7f41969da572251179086d",
       "version_major": 2,
       "version_minor": 0
      },
      "text/plain": [
       "  0%|          | 0/4 [00:00<?, ?ba/s]"
      ]
     },
     "metadata": {},
     "output_type": "display_data"
    },
    {
     "data": {
      "text/html": [
       "<div>\n",
       "<style scoped>\n",
       "    .dataframe tbody tr th:only-of-type {\n",
       "        vertical-align: middle;\n",
       "    }\n",
       "\n",
       "    .dataframe tbody tr th {\n",
       "        vertical-align: top;\n",
       "    }\n",
       "\n",
       "    .dataframe thead th {\n",
       "        text-align: right;\n",
       "    }\n",
       "</style>\n",
       "<table border=\"1\" class=\"dataframe\">\n",
       "  <thead>\n",
       "    <tr style=\"text-align: right;\">\n",
       "      <th></th>\n",
       "      <th>Resume_str</th>\n",
       "      <th>Category</th>\n",
       "      <th>embed</th>\n",
       "      <th>cos_sim</th>\n",
       "      <th>key_match</th>\n",
       "    </tr>\n",
       "  </thead>\n",
       "  <tbody>\n",
       "    <tr>\n",
       "      <th>0</th>\n",
       "      <td>HR MANAGER Summary To obtain a position that o...</td>\n",
       "      <td>HR</td>\n",
       "      <td>[-0.03701455, -0.019948926, -0.023139175, -0.0...</td>\n",
       "      <td>0.720511</td>\n",
       "      <td>6</td>\n",
       "    </tr>\n",
       "  </tbody>\n",
       "</table>\n",
       "</div>"
      ],
      "text/plain": [
       "                                          Resume_str Category  \\\n",
       "0  HR MANAGER Summary To obtain a position that o...       HR   \n",
       "\n",
       "                                               embed   cos_sim  key_match  \n",
       "0  [-0.03701455, -0.019948926, -0.023139175, -0.0...  0.720511          6  "
      ]
     },
     "execution_count": 99,
     "metadata": {},
     "output_type": "execute_result"
    }
   ],
   "source": [
    "results = similar_profiles(jd_info, all_data)\n",
    "\n",
    "results = results.sort_values(by='cos_sim', ascending=False)\n",
    "results"
   ]
  },
  {
   "cell_type": "code",
   "execution_count": 103,
   "id": "02c43402-e31f-49ce-8df6-f0f8473204de",
   "metadata": {},
   "outputs": [],
   "source": [
    "job_ds = \"\"\"Experience: 5+ years of experience in aviation engineering\n",
    "\n",
    "Responsibilities:\n",
    "\n",
    "Design and develop aircraft and aircraft systems, such as engines, avionics, flight controls, and landing gear\n",
    "Conduct research and development on new and emerging aviation technologies and materials\n",
    "Collaborate with cross-functional teams, including aerodynamics, structures, and systems engineering, to ensure aircraft designs meet performance, safety, and regulatory requirements\n",
    "Analyze and evaluate aircraft performance, including speed, range, fuel efficiency, and payload\n",
    "Use specialized software and tools to simulate and model aircraft and aircraft systems\n",
    "Perform structural analysis and testing to ensure aircraft components and systems meet safety and reliability standards\n",
    "Develop and maintain technical documentation, including engineering drawings, specifications, and reports\n",
    "Collaborate with manufacturing and production teams to ensure designs are producible and efficient\n",
    "Participate in certification and testing of aircraft and aircraft systems\n",
    "Maintain knowledge of industry standards, regulations, and best practices\"\"\""
   ]
  },
  {
   "cell_type": "code",
   "execution_count": 104,
   "id": "f492aa04-f1b6-43d0-936c-2f2a7b53cf87",
   "metadata": {},
   "outputs": [
    {
     "data": {
      "application/json": {
       "ascii": false,
       "bar_format": null,
       "colour": null,
       "elapsed": 0.007307291030883789,
       "initial": 0,
       "n": 0,
       "ncols": null,
       "nrows": null,
       "postfix": null,
       "prefix": "Batches",
       "rate": null,
       "total": 1,
       "unit": "it",
       "unit_divisor": 1000,
       "unit_scale": false
      },
      "application/vnd.jupyter.widget-view+json": {
       "model_id": "3ab07104d98b4c0589479ce67ff4b536",
       "version_major": 2,
       "version_minor": 0
      },
      "text/plain": [
       "Batches:   0%|          | 0/1 [00:00<?, ?it/s]"
      ]
     },
     "metadata": {},
     "output_type": "display_data"
    },
    {
     "data": {
      "application/json": {
       "ascii": false,
       "bar_format": null,
       "colour": null,
       "elapsed": 0.013359785079956055,
       "initial": 0,
       "n": 0,
       "ncols": null,
       "nrows": null,
       "postfix": null,
       "prefix": "",
       "rate": null,
       "total": 3446,
       "unit": "ex",
       "unit_divisor": 1000,
       "unit_scale": false
      },
      "application/vnd.jupyter.widget-view+json": {
       "model_id": "ddca3cbe8840414399bdfe5b028a07c1",
       "version_major": 2,
       "version_minor": 0
      },
      "text/plain": [
       "  0%|          | 0/3446 [00:00<?, ?ex/s]"
      ]
     },
     "metadata": {},
     "output_type": "display_data"
    },
    {
     "data": {
      "application/json": {
       "ascii": false,
       "bar_format": null,
       "colour": null,
       "elapsed": 0.013285636901855469,
       "initial": 0,
       "n": 0,
       "ncols": null,
       "nrows": null,
       "postfix": null,
       "prefix": "",
       "rate": null,
       "total": 4,
       "unit": "ba",
       "unit_divisor": 1000,
       "unit_scale": false
      },
      "application/vnd.jupyter.widget-view+json": {
       "model_id": "0551a5dcb16348cd95a572ae4e40962c",
       "version_major": 2,
       "version_minor": 0
      },
      "text/plain": [
       "  0%|          | 0/4 [00:00<?, ?ba/s]"
      ]
     },
     "metadata": {},
     "output_type": "display_data"
    },
    {
     "data": {
      "text/html": [
       "<div>\n",
       "<style scoped>\n",
       "    .dataframe tbody tr th:only-of-type {\n",
       "        vertical-align: middle;\n",
       "    }\n",
       "\n",
       "    .dataframe tbody tr th {\n",
       "        vertical-align: top;\n",
       "    }\n",
       "\n",
       "    .dataframe thead th {\n",
       "        text-align: right;\n",
       "    }\n",
       "</style>\n",
       "<table border=\"1\" class=\"dataframe\">\n",
       "  <thead>\n",
       "    <tr style=\"text-align: right;\">\n",
       "      <th></th>\n",
       "      <th>Resume_str</th>\n",
       "      <th>Category</th>\n",
       "      <th>embed</th>\n",
       "      <th>cos_sim</th>\n",
       "      <th>key_match</th>\n",
       "    </tr>\n",
       "  </thead>\n",
       "  <tbody>\n",
       "    <tr>\n",
       "      <th>0</th>\n",
       "      <td>AVIATION SUPPLY SPECIALIST Summary Organized p...</td>\n",
       "      <td>AVIATION</td>\n",
       "      <td>[-0.053045448, 0.026786014, -0.027348204, -0.0...</td>\n",
       "      <td>0.726557</td>\n",
       "      <td>6</td>\n",
       "    </tr>\n",
       "  </tbody>\n",
       "</table>\n",
       "</div>"
      ],
      "text/plain": [
       "                                          Resume_str  Category  \\\n",
       "0  AVIATION SUPPLY SPECIALIST Summary Organized p...  AVIATION   \n",
       "\n",
       "                                               embed   cos_sim  key_match  \n",
       "0  [-0.053045448, 0.026786014, -0.027348204, -0.0...  0.726557          6  "
      ]
     },
     "execution_count": 104,
     "metadata": {},
     "output_type": "execute_result"
    }
   ],
   "source": [
    "results = similar_profiles(job_ds, all_data)\n",
    "\n",
    "results = results.sort_values(by='cos_sim', ascending=False)\n",
    "results"
   ]
  },
  {
   "cell_type": "code",
   "execution_count": 108,
   "id": "2236c66b-6031-4731-84d8-b0c39e26fd16",
   "metadata": {},
   "outputs": [],
   "source": [
    "job_chef = \"\"\"5+ years of experience in culinary arts\n",
    "\n",
    "Responsibilities:\n",
    "\n",
    "Plan and prepare high-quality and delicious meals that meet customer preferences and dietary requirements\n",
    "Develop and modify menus, recipes, and ingredients to meet changing customer demands\n",
    "Estimate food requirements, order food supplies, and maintain inventory levels\n",
    "Supervise and coordinate kitchen staff to ensure smooth operations, including food preparation, cooking, and cleaning\n",
    "Train and mentor kitchen staff members to ensure quality and consistency in food preparation and cooking\n",
    "Ensure compliance with food safety and sanitation standards, including HACCP and ServSafe guidelines\n",
    "Develop and implement cost-saving strategies to minimize food waste and maximize profitability\n",
    "Collaborate with restaurant management and front-of-house staff to ensure customer satisfaction and efficient operations\n",
    "Maintain knowledge of current culinary trends and techniques\n",
    "Maintain a clean and organized kitchen, including equipment maintenance and repair\"\"\""
   ]
  },
  {
   "cell_type": "code",
   "execution_count": 109,
   "id": "dbb21956-a336-4da8-ac74-faf420e09e96",
   "metadata": {},
   "outputs": [
    {
     "data": {
      "application/json": {
       "ascii": false,
       "bar_format": null,
       "colour": null,
       "elapsed": 0.00661778450012207,
       "initial": 0,
       "n": 0,
       "ncols": null,
       "nrows": null,
       "postfix": null,
       "prefix": "Batches",
       "rate": null,
       "total": 1,
       "unit": "it",
       "unit_divisor": 1000,
       "unit_scale": false
      },
      "application/vnd.jupyter.widget-view+json": {
       "model_id": "9735785620004de1a435ee38bdeabd73",
       "version_major": 2,
       "version_minor": 0
      },
      "text/plain": [
       "Batches:   0%|          | 0/1 [00:00<?, ?it/s]"
      ]
     },
     "metadata": {},
     "output_type": "display_data"
    },
    {
     "data": {
      "application/json": {
       "ascii": false,
       "bar_format": null,
       "colour": null,
       "elapsed": 0.01410365104675293,
       "initial": 0,
       "n": 0,
       "ncols": null,
       "nrows": null,
       "postfix": null,
       "prefix": "",
       "rate": null,
       "total": 3446,
       "unit": "ex",
       "unit_divisor": 1000,
       "unit_scale": false
      },
      "application/vnd.jupyter.widget-view+json": {
       "model_id": "75ae116560e24023a7fa832445ea890e",
       "version_major": 2,
       "version_minor": 0
      },
      "text/plain": [
       "  0%|          | 0/3446 [00:00<?, ?ex/s]"
      ]
     },
     "metadata": {},
     "output_type": "display_data"
    },
    {
     "data": {
      "application/json": {
       "ascii": false,
       "bar_format": null,
       "colour": null,
       "elapsed": 0.01495814323425293,
       "initial": 0,
       "n": 0,
       "ncols": null,
       "nrows": null,
       "postfix": null,
       "prefix": "",
       "rate": null,
       "total": 4,
       "unit": "ba",
       "unit_divisor": 1000,
       "unit_scale": false
      },
      "application/vnd.jupyter.widget-view+json": {
       "model_id": "77fdbb1324324713b80232f887480274",
       "version_major": 2,
       "version_minor": 0
      },
      "text/plain": [
       "  0%|          | 0/4 [00:00<?, ?ba/s]"
      ]
     },
     "metadata": {},
     "output_type": "display_data"
    },
    {
     "data": {
      "text/html": [
       "<div>\n",
       "<style scoped>\n",
       "    .dataframe tbody tr th:only-of-type {\n",
       "        vertical-align: middle;\n",
       "    }\n",
       "\n",
       "    .dataframe tbody tr th {\n",
       "        vertical-align: top;\n",
       "    }\n",
       "\n",
       "    .dataframe thead th {\n",
       "        text-align: right;\n",
       "    }\n",
       "</style>\n",
       "<table border=\"1\" class=\"dataframe\">\n",
       "  <thead>\n",
       "    <tr style=\"text-align: right;\">\n",
       "      <th></th>\n",
       "      <th>Resume_str</th>\n",
       "      <th>Category</th>\n",
       "      <th>embed</th>\n",
       "      <th>cos_sim</th>\n",
       "      <th>key_match</th>\n",
       "    </tr>\n",
       "  </thead>\n",
       "  <tbody>\n",
       "    <tr>\n",
       "      <th>3</th>\n",
       "      <td>Summary I am a kitchen manager with six years ...</td>\n",
       "      <td>CHEF</td>\n",
       "      <td>[-0.05047101, 0.008844882, -0.057153843, -0.04...</td>\n",
       "      <td>0.730248</td>\n",
       "      <td>6</td>\n",
       "    </tr>\n",
       "    <tr>\n",
       "      <th>2</th>\n",
       "      <td>DEPUTY PRINCIPAL Executive Profile Resultsorie...</td>\n",
       "      <td>AUTOMOBILE</td>\n",
       "      <td>[-0.032646265, -0.04653155, -0.019676032, -0.0...</td>\n",
       "      <td>0.724661</td>\n",
       "      <td>6</td>\n",
       "    </tr>\n",
       "    <tr>\n",
       "      <th>0</th>\n",
       "      <td>HR ASSISTANT Highlights Interviewing expertise...</td>\n",
       "      <td>HR</td>\n",
       "      <td>[-0.043813698, -0.02912577, -0.017574316, -0.0...</td>\n",
       "      <td>0.724054</td>\n",
       "      <td>7</td>\n",
       "    </tr>\n",
       "    <tr>\n",
       "      <th>1</th>\n",
       "      <td>CUSTOMER CARE REPRESENTATIVE Professional Summ...</td>\n",
       "      <td>FITNESS</td>\n",
       "      <td>[-0.027356727, -0.020181151, -0.006641451, -0....</td>\n",
       "      <td>0.723831</td>\n",
       "      <td>6</td>\n",
       "    </tr>\n",
       "  </tbody>\n",
       "</table>\n",
       "</div>"
      ],
      "text/plain": [
       "                                          Resume_str    Category  \\\n",
       "3  Summary I am a kitchen manager with six years ...        CHEF   \n",
       "2  DEPUTY PRINCIPAL Executive Profile Resultsorie...  AUTOMOBILE   \n",
       "0  HR ASSISTANT Highlights Interviewing expertise...          HR   \n",
       "1  CUSTOMER CARE REPRESENTATIVE Professional Summ...     FITNESS   \n",
       "\n",
       "                                               embed   cos_sim  key_match  \n",
       "3  [-0.05047101, 0.008844882, -0.057153843, -0.04...  0.730248          6  \n",
       "2  [-0.032646265, -0.04653155, -0.019676032, -0.0...  0.724661          6  \n",
       "0  [-0.043813698, -0.02912577, -0.017574316, -0.0...  0.724054          7  \n",
       "1  [-0.027356727, -0.020181151, -0.006641451, -0....  0.723831          6  "
      ]
     },
     "execution_count": 109,
     "metadata": {},
     "output_type": "execute_result"
    }
   ],
   "source": [
    "results = similar_profiles(job_chef, all_data)\n",
    "\n",
    "results = results.sort_values(by='cos_sim', ascending=False)\n",
    "results"
   ]
  },
  {
   "cell_type": "code",
   "execution_count": null,
   "id": "440cce8b-7430-49b4-8d72-182a053ebbb6",
   "metadata": {},
   "outputs": [],
   "source": []
  }
 ],
 "metadata": {
  "kernelspec": {
   "display_name": "PyTorch (AI kit)",
   "language": "python",
   "name": "c009-intel_distribution_of_python_3_oneapi-beta05-pytorch"
  },
  "language_info": {
   "codemirror_mode": {
    "name": "ipython",
    "version": 3
   },
   "file_extension": ".py",
   "mimetype": "text/x-python",
   "name": "python",
   "nbconvert_exporter": "python",
   "pygments_lexer": "ipython3",
   "version": "3.9.15"
  }
 },
 "nbformat": 4,
 "nbformat_minor": 5
}
